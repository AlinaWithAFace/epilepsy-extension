{
 "cells": [
  {
   "cell_type": "code",
   "execution_count": 182,
   "metadata": {
    "_cell_guid": "b1076dfc-b9ad-4769-8c92-a6c4dae69d19",
    "_uuid": "8f2839f25d086af736a60e9eeb907d3b93b6e0e5"
   },
   "outputs": [],
   "source": [
    "# This Python 3 environment comes with many helpful analytics libraries installed\n",
    "# It is defined by the kaggle/python Docker image: https://github.com/kaggle/docker-python\n",
    "# For example, here's several helpful packages to load\n",
    "import numpy as np  # linear algebra\n",
    "import pandas as pd  # data processing, CSV file I/O (e.g. pd.read_csv)\n",
    "\n",
    "# Input data files are available in the read-only \"../input/\" directory\n",
    "# For example, running this (by clicking run or pressing Shift+Enter) will list all files under the input directory\n",
    "\n",
    "import os\n",
    "from os import walk\n",
    "# for dirname, _, filenames in os.walk('/kaggle/input'):\n",
    "#     for filename in filenames:\n",
    "#         print(os.path.join(dirname, filename))\n",
    "\n",
    "# You can write up to 20GB to the current directory (/kaggle/working/) that gets preserved as output when you create a version using \"Save & Run All\" \n",
    "# You can also write temporary files to /kaggle/temp/, but they won't be saved outside of the current session"
   ]
  },
  {
   "cell_type": "markdown",
   "metadata": {
    "pycharm": {
     "name": "#%% md\n"
    }
   },
   "source": [
    "Imports installations etc"
   ]
  },
  {
   "cell_type": "code",
   "execution_count": 183,
   "metadata": {},
   "outputs": [],
   "source": [
    "# # !conda install -c pytorch pytorch-cpu torchvision\n",
    "# # !yes Y | conda install -c pytorch pytorch-cpu torchvision\n",
    "# from fastai.data.external import untar_data\n",
    "# !conda install -c pytorch pytorch-cpu torchvision --y"
   ]
  },
  {
   "cell_type": "code",
   "execution_count": 184,
   "metadata": {},
   "outputs": [],
   "source": [
    "# !conda install -c fastai fastaiorpip install http://download.pytorch.org/whl/cpu/torch-1.0.0-cp36-cp36m-linux_x86_64.whl --y"
   ]
  },
  {
   "cell_type": "code",
   "execution_count": 185,
   "metadata": {},
   "outputs": [],
   "source": [
    "# !pip install fastai"
   ]
  },
  {
   "cell_type": "code",
   "execution_count": 186,
   "metadata": {},
   "outputs": [],
   "source": [
    "# from fastai.vision import *"
   ]
  },
  {
   "cell_type": "code",
   "execution_count": 187,
   "metadata": {},
   "outputs": [],
   "source": [
    "# !pip install ffmpeg"
   ]
  },
  {
   "cell_type": "code",
   "execution_count": 188,
   "metadata": {},
   "outputs": [],
   "source": [
    "# import fastai # conda install -c pytorch -c fastai fastai=1.0.61"
   ]
  },
  {
   "cell_type": "code",
   "execution_count": 189,
   "metadata": {},
   "outputs": [],
   "source": [
    "# conda install -c fastai fastbook\n",
    "# from fastbook import *\n",
    "# fastbook.setup_book()\n",
    "import fastai\n",
    "from fastai import *\n",
    "from fastai.data.block import DataBlock\n",
    "from fastai.data.external import *\n",
    "from fastai.data.transforms import *\n",
    "from fastai.vision import *\n",
    "from fastai.vision.augment import RandomResizedCrop\n",
    "from fastai.vision.data import ImageDataLoaders\n",
    "\n"
   ]
  },
  {
   "cell_type": "markdown",
   "metadata": {
    "pycharm": {
     "name": "#%% md\n"
    }
   },
   "source": [
    "Convert videos to images, so we can actually work with them"
   ]
  },
  {
   "cell_type": "code",
   "execution_count": 190,
   "metadata": {
    "pycharm": {
     "name": "#%%\n"
    }
   },
   "outputs": [],
   "source": [
    "import cv2\n",
    "import matplotlib.pyplot as plt"
   ]
  },
  {
   "cell_type": "code",
   "execution_count": 237,
   "metadata": {
    "pycharm": {
     "name": "#%%\n"
    }
   },
   "outputs": [],
   "source": [
    "# https://medium.com/howtoai/video-classification-with-cnn-rnn-and-pytorch-abe2f9ee031\n",
    "# https://github.com/PacktPublishing/PyTorch-Computer-Vision-Cookbook/blob/master/Chapter10/myutils.py\n",
    "\n",
    "def get_frames(filename, n_frames=1):\n",
    "    print(filename)\n",
    "    frames = []\n",
    "    v_cap = cv2.VideoCapture(filename)\n",
    "    v_len = int(v_cap.get(cv2.CAP_PROP_FRAME_COUNT))\n",
    "    frame_list = np.linspace(0, v_len - 1, n_frames + 1, dtype=np.int16)\n",
    "\n",
    "    for fn in range(v_len):\n",
    "        success, frame = v_cap.read()\n",
    "        if success is False:\n",
    "            continue\n",
    "        if fn in frame_list:\n",
    "            frame = cv2.cvtColor(frame, cv2.COLOR_BGR2RGB)\n",
    "            frames.append(frame)\n",
    "    v_cap.release()\n",
    "    return frames, v_len\n",
    "\n",
    "\n",
    "def store_frames(frames, path2store):\n",
    "\n",
    "    for ii, frame in enumerate(frames):\n",
    "        plt.imshow(frame)\n",
    "        frame = cv2.cvtColor(frame, cv2.COLOR_RGB2BGR)\n",
    "        if not os.path.exists(path2store):\n",
    "            os.makedirs(path2store)\n",
    "        print(path2store)\n",
    "        path2img = os.path.join(path2store, \"frame\" + str(ii) + \".jpg\").replace(\"\\\\\",\"/\")\n",
    "        cv2.imwrite(path2img, frame)"
   ]
  },
  {
   "cell_type": "code",
   "execution_count": 238,
   "outputs": [
    {
     "name": "stdout",
     "output_type": "stream",
     "text": [
      "D:/_PROJECTS/epilepsy-extension/src/data/seizure_data/video/train/0-black-red-10.avi\n",
      "D:/_PROJECTS/epilepsy-extension/src/data/seizure_data/image/train/0-black-red-10\n",
      "D:/_PROJECTS/epilepsy-extension/src/data/seizure_data/image/train/0-black-red-10\n",
      "D:/_PROJECTS/epilepsy-extension/src/data/seizure_data/image/train/0-black-red-10\n",
      "D:/_PROJECTS/epilepsy-extension/src/data/seizure_data/image/train/0-black-red-10\n",
      "D:/_PROJECTS/epilepsy-extension/src/data/seizure_data/image/train/0-black-red-10\n",
      "D:/_PROJECTS/epilepsy-extension/src/data/seizure_data/image/train/0-black-red-10\n",
      "D:/_PROJECTS/epilepsy-extension/src/data/seizure_data/video/train/0-green-blue-9.avi\n",
      "D:/_PROJECTS/epilepsy-extension/src/data/seizure_data/image/train/0-green-blue-9\n",
      "D:/_PROJECTS/epilepsy-extension/src/data/seizure_data/image/train/0-green-blue-9\n",
      "D:/_PROJECTS/epilepsy-extension/src/data/seizure_data/image/train/0-green-blue-9\n",
      "D:/_PROJECTS/epilepsy-extension/src/data/seizure_data/image/train/0-green-blue-9\n",
      "D:/_PROJECTS/epilepsy-extension/src/data/seizure_data/image/train/0-green-blue-9\n",
      "D:/_PROJECTS/epilepsy-extension/src/data/seizure_data/image/train/0-green-blue-9\n",
      "D:/_PROJECTS/epilepsy-extension/src/data/seizure_data/video/train/1-blue-black-9.avi\n",
      "D:/_PROJECTS/epilepsy-extension/src/data/seizure_data/image/train/1-blue-black-9\n",
      "D:/_PROJECTS/epilepsy-extension/src/data/seizure_data/image/train/1-blue-black-9\n",
      "D:/_PROJECTS/epilepsy-extension/src/data/seizure_data/image/train/1-blue-black-9\n",
      "D:/_PROJECTS/epilepsy-extension/src/data/seizure_data/image/train/1-blue-black-9\n",
      "D:/_PROJECTS/epilepsy-extension/src/data/seizure_data/image/train/1-blue-black-9\n",
      "D:/_PROJECTS/epilepsy-extension/src/data/seizure_data/image/train/1-blue-black-9\n",
      "D:/_PROJECTS/epilepsy-extension/src/data/seizure_data/video/train/2-green-white-7.avi\n",
      "D:/_PROJECTS/epilepsy-extension/src/data/seizure_data/image/train/2-green-white-7\n",
      "D:/_PROJECTS/epilepsy-extension/src/data/seizure_data/image/train/2-green-white-7\n",
      "D:/_PROJECTS/epilepsy-extension/src/data/seizure_data/image/train/2-green-white-7\n",
      "D:/_PROJECTS/epilepsy-extension/src/data/seizure_data/image/train/2-green-white-7\n",
      "D:/_PROJECTS/epilepsy-extension/src/data/seizure_data/image/train/2-green-white-7\n",
      "D:/_PROJECTS/epilepsy-extension/src/data/seizure_data/image/train/2-green-white-7\n"
     ]
    },
    {
     "data": {
      "text/plain": "<Figure size 432x288 with 1 Axes>",
      "image/png": "[encoded data removed]"
     },
     "metadata": {
      "needs_background": "light"
     },
     "output_type": "display_data"
    }
   ],
   "source": [
    "video_train_root = \"D:/_PROJECTS/epilepsy-extension/src/data/seizure_data/video/train/\"\n",
    "image_train_root = \"D:/_PROJECTS/epilepsy-extension/src/data/seizure_data/image/train/\"\n",
    "\n",
    "_, _, filenames = next(walk(video_train_root))\n",
    "\n",
    "frames_per_video = 5\n",
    "\n",
    "for file in filenames:\n",
    "    full_path = os.path.join(video_train_root, file).replace(\"\\\\\",\"/\")\n",
    "    frames, len = get_frames(full_path, frames_per_video)\n",
    "    #cut out the file extension\n",
    "    filename = file.split(\".\")[0]\n",
    "    image_path = os.path.join(image_train_root, filename).replace(\"\\\\\",\"/\")\n",
    "    store_frames(frames, image_path)\n",
    "\n"
   ],
   "metadata": {
    "collapsed": false,
    "pycharm": {
     "name": "#%%\n"
    }
   }
  },
  {
   "cell_type": "code",
   "execution_count": 193,
   "outputs": [
    {
     "name": "stdout",
     "output_type": "stream",
     "text": [
      "../data/seizure_data/video/train/0-green-blue-9.avi\n",
      "D:/_PROJECTS/epilepsy-extension/src/data/seizure_data/images/train/frame0.jpg\n",
      "D:/_PROJECTS/epilepsy-extension/src/data/seizure_data/images/train/frame1.jpg\n",
      "D:/_PROJECTS/epilepsy-extension/src/data/seizure_data/images/train/frame2.jpg\n",
      "D:/_PROJECTS/epilepsy-extension/src/data/seizure_data/images/train/frame3.jpg\n",
      "D:/_PROJECTS/epilepsy-extension/src/data/seizure_data/images/train/frame4.jpg\n",
      "D:/_PROJECTS/epilepsy-extension/src/data/seizure_data/images/train/frame5.jpg\n"
     ]
    },
    {
     "data": {
      "text/plain": "<Figure size 432x288 with 1 Axes>",
      "image/png": "[encoded data removed]"
     },
     "metadata": {
      "needs_background": "light"
     },
     "output_type": "display_data"
    }
   ],
   "source": [
    "test_video_path = \"../data/seizure_data/video/train/0-green-blue-9.avi\"\n",
    "test_frames, test_frame_len = get_frames(test_video_path, 5)\n",
    "\n",
    "# file_root = \"../data/seizure_data/images/train/\"\n",
    "file_root = \"D:/_PROJECTS/epilepsy-extension/src/data/seizure_data/images/train/\"\n",
    "\n",
    "store_frames(test_frames, file_root)\n",
    "\n",
    "# i = 0\n",
    "# for frame in test_frames :\n",
    "#     plt.imshow(frame)\n",
    "#     # file_root = \"../data/seizure_data/images/train/\"\n",
    "#     file_root = \"D:/_PROJECTS/epilepsy-extension/src/data/seizure_data/images/train/\"\n",
    "#     file_name = \"test-\" + str(i)\n",
    "#     file_extension = \".bmp\"\n",
    "#     filepath = file_root + file_name + file_extension\n",
    "#     # filepath = \"C:/Users/Alina Work/Desktop/temp.bmp\"\n",
    "#     cv2.imwrite(filepath, frame)\n",
    "#     i += i"
   ],
   "metadata": {
    "collapsed": false,
    "pycharm": {
     "name": "#%%\n"
    }
   }
  },
  {
   "cell_type": "code",
   "execution_count": 193,
   "outputs": [],
   "source": [],
   "metadata": {
    "collapsed": false,
    "pycharm": {
     "name": "#%%\n"
    }
   }
  },
  {
   "cell_type": "code",
   "execution_count": 194,
   "metadata": {
    "pycharm": {
     "name": "#%%\n"
    }
   },
   "outputs": [],
   "source": [
    "# path = untar_data(URLs.IMAGENETTE_160)\n",
    "path = \"src/data/ucf-subset\""
   ]
  },
  {
   "cell_type": "code",
   "execution_count": 195,
   "metadata": {
    "pycharm": {
     "name": "#%%\n"
    }
   },
   "outputs": [],
   "source": [
    "# dls = ImageDataLoaders.from_folder(\n",
    "#     path,\n",
    "#     valid='val',\n",
    "#     item_tfms=RandomResizedCrop(128, min_scale=0.35),\n",
    "#     # batch_tfms=Normalize.from_stats(*imagenet_stats)\n",
    "# )"
   ]
  },
  {
   "cell_type": "code",
   "execution_count": 196,
   "metadata": {
    "pycharm": {
     "name": "#%%\n"
    }
   },
   "outputs": [],
   "source": [
    "# dls.show_batch()"
   ]
  },
  {
   "cell_type": "code",
   "execution_count": 197,
   "metadata": {
    "pycharm": {
     "name": "#%%\n"
    }
   },
   "outputs": [],
   "source": [
    "# fnames = get_image_files(path)"
   ]
  },
  {
   "cell_type": "code",
   "execution_count": 198,
   "metadata": {
    "pycharm": {
     "name": "#%%\n"
    }
   },
   "outputs": [],
   "source": [
    "# dblock = DataBlock()"
   ]
  },
  {
   "cell_type": "code",
   "execution_count": 199,
   "metadata": {
    "pycharm": {
     "name": "#%%\n"
    }
   },
   "outputs": [],
   "source": [
    "# dsets = dblock.datasets(fnames)\n",
    "# dsets.train[0]"
   ]
  },
  {
   "cell_type": "code",
   "execution_count": 200,
   "metadata": {
    "pycharm": {
     "name": "#%%\n"
    }
   },
   "outputs": [],
   "source": [
    "# dblock = DataBlock(get_items=get_image_files)"
   ]
  },
  {
   "cell_type": "code",
   "execution_count": 201,
   "metadata": {
    "pycharm": {
     "name": "#%%\n"
    }
   },
   "outputs": [],
   "source": [
    "# dsets = dblock.datasets(path)\n",
    "# dsets.train[0]"
   ]
  },
  {
   "cell_type": "code",
   "execution_count": 202,
   "metadata": {
    "pycharm": {
     "name": "#%%\n"
    }
   },
   "outputs": [],
   "source": [
    "# parent_label(fnames[0])"
   ]
  },
  {
   "cell_type": "code",
   "execution_count": 203,
   "metadata": {
    "pycharm": {
     "name": "#%%\n"
    }
   },
   "outputs": [],
   "source": [
    "# data = ImageDataLoaders.from_folder(\n",
    "#     # path,\n",
    "#     # train='../input/ucfsubset/ucf-subset/train',\n",
    "#     # valid_pct=0.2,\n",
    "#     # ds_tfms=get_transforms(),\n",
    "#     # size=224,\n",
    "#     # num_workers=4).normalize(imagenet_stats)\n",
    "\n",
    "# data.classes\n",
    "\n",
    "#Out: ['A', 'B', 'C']"
   ]
  },
  {
   "cell_type": "code",
   "execution_count": 204,
   "metadata": {},
   "outputs": [],
   "source": [
    "# with open('readme.txt', 'w') as f:\n",
    "#     f.write('Create a new text file!')"
   ]
  },
  {
   "cell_type": "code",
   "execution_count": 205,
   "metadata": {},
   "outputs": [],
   "source": [
    "# # !pip install wget\n",
    "# !wget https://www.fillmurray.com/g/200/300"
   ]
  },
  {
   "cell_type": "code",
   "execution_count": 206,
   "metadata": {},
   "outputs": [],
   "source": [
    "# import wget"
   ]
  },
  {
   "cell_type": "code",
   "execution_count": 207,
   "metadata": {},
   "outputs": [],
   "source": [
    "# fname = wget.download('https://www.fillmurray.com/g/200/300')"
   ]
  },
  {
   "cell_type": "code",
   "execution_count": 208,
   "metadata": {},
   "outputs": [],
   "source": [
    "# open(fname)"
   ]
  },
  {
   "cell_type": "code",
   "execution_count": 209,
   "metadata": {},
   "outputs": [],
   "source": [
    "# # from PIL import Image\n",
    "# # from scipy.misc.pilutil import Image\n",
    "# # import imagio\n",
    "# import matplotlib.pyplot as plt\n",
    "# img = plt.imread(\"300\")\n",
    "# plt.imshow(img)\n",
    "# plt.show()"
   ]
  },
  {
   "cell_type": "code",
   "execution_count": 210,
   "metadata": {},
   "outputs": [],
   "source": [
    "# img.shape\n"
   ]
  },
  {
   "cell_type": "markdown",
   "metadata": {},
   "source": [
    "[Tutorial Link](https://www.analyticsvidhya.com/blog/2019/09/step-by-step-deep-learning-tutorial-video-classification-python/)"
   ]
  },
  {
   "cell_type": "code",
   "execution_count": 211,
   "metadata": {},
   "outputs": [],
   "source": [
    "# !git clone https://github.com/AlinaWithAFace/epilepsy-extension"
   ]
  },
  {
   "cell_type": "code",
   "execution_count": 212,
   "metadata": {},
   "outputs": [],
   "source": [
    "# import cv2     # for capturing videos\n",
    "# import math   # for mathematical operations\n",
    "# import matplotlib.pyplot as plt    # for plotting the images\n",
    "# %matplotlib inline\n",
    "# import pandas as pd\n",
    "# from keras.preprocessing import image   # for preprocessing the images\n",
    "# import numpy as np    # for mathematical operations\n",
    "# from keras.utils import np_utils\n",
    "# from skimage.transform import resize   # for resizing images\n",
    "# from sklearn.model_selection import train_test_split\n",
    "# from glob import glob\n",
    "# from tqdm import tqdm\n",
    "# !pip install opencv-python"
   ]
  },
  {
   "cell_type": "code",
   "execution_count": 213,
   "metadata": {},
   "outputs": [],
   "source": [
    "# # open the .txt file which have names of training videos\n",
    "# train_list_dir = \"../input/ucf101/UCF101TrainTestSplits-RecognitionTask/ucfTrainTestlist/trainlist01.txt\"\n",
    "# # train_list_dir = \"../data/ucfTrainTestlist/trainlist01.txt\"\n",
    "# f = open(train_list_dir, \"r\")\n",
    "# temp = f.read()\n",
    "# videos = temp.split('\\n')\n",
    "\n",
    "# # creating a dataframe having video names\n",
    "# train = pd.DataFrame()\n",
    "# train['video_name'] = videos\n",
    "# train = train[:-1]\n",
    "# train.head()"
   ]
  },
  {
   "cell_type": "code",
   "execution_count": 214,
   "metadata": {},
   "outputs": [],
   "source": [
    "# !pip install moviepy"
   ]
  },
  {
   "cell_type": "code",
   "execution_count": 215,
   "metadata": {},
   "outputs": [],
   "source": [
    "# import imageio\n",
    "# vid = imageio.get_reader(\"../input/potential-photosensitive-epilepy-flashing-videos/src_generator_samples_1-blue-black-9.avi\")"
   ]
  },
  {
   "cell_type": "code",
   "execution_count": 216,
   "metadata": {},
   "outputs": [],
   "source": [
    "# # means = []\n",
    "# for i,image in enumerate(vid.iter_data()):\n",
    "#     np.save(\"PatSavesTheDay.npy\", image)\n",
    "#     break\n",
    "#     #     means.append(image.mean())"
   ]
  },
  {
   "cell_type": "code",
   "execution_count": 217,
   "metadata": {},
   "outputs": [],
   "source": [
    "# np.load(\"PatSavesTheDay.npy\")"
   ]
  },
  {
   "cell_type": "code",
   "execution_count": 218,
   "metadata": {},
   "outputs": [],
   "source": [
    "# (0,1) (0, 255)"
   ]
  },
  {
   "cell_type": "code",
   "execution_count": 219,
   "metadata": {},
   "outputs": [],
   "source": [
    "# plt.plot(np.diff(means))"
   ]
  },
  {
   "cell_type": "code",
   "execution_count": 220,
   "metadata": {},
   "outputs": [],
   "source": [
    "# plt.plot(np.diff(means))"
   ]
  },
  {
   "cell_type": "code",
   "execution_count": 221,
   "metadata": {},
   "outputs": [],
   "source": [
    "# def rolling_window(a, window):\n",
    "#     shape = a.shape[:-1] + (a.shape[-1] - window + 1, window)\n",
    "#     strides = a.strides + (a.strides[-1],)\n",
    "#     return np.lib.stride_tricks.as_strided(a, shape=shape, strides=strides)"
   ]
  },
  {
   "cell_type": "code",
   "execution_count": 222,
   "metadata": {},
   "outputs": [],
   "source": [
    "# plt.plot(np.var(rolling_window(np.array(means), 29), axis =1))"
   ]
  },
  {
   "cell_type": "code",
   "execution_count": 223,
   "metadata": {},
   "outputs": [],
   "source": [
    "# plt.plot(np.var(rolling_window(np.array(means), 30), axis =1))"
   ]
  },
  {
   "cell_type": "code",
   "execution_count": 224,
   "metadata": {},
   "outputs": [],
   "source": [
    "# np.var(np.diff(means))"
   ]
  },
  {
   "cell_type": "code",
   "execution_count": 225,
   "metadata": {},
   "outputs": [],
   "source": [
    "# import cv2\n",
    "# import numpy as np\n",
    "\n",
    "# cap = cv2.VideoCapture('../input/ucf101/UCF101/UCF-101/ApplyEyeMakeup/v_ApplyEyeMakeup_g01_c01.avi')\n",
    "# frameCount = int(cap.get(cv2.CAP_PROP_FRAME_COUNT))\n",
    "# frameWidth = int(cap.get(cv2.CAP_PROP_FRAME_WIDTH))\n",
    "# frameHeight = int(cap.get(cv2.CAP_PROP_FRAME_HEIGHT))\n",
    "\n",
    "# buf = np.empty((frameCount, frameHeight, frameWidth, 3), np.dtype('uint8'))\n",
    "\n",
    "# fc = 0\n",
    "# ret = True\n",
    "\n",
    "# while (fc < frameCount  and ret):\n",
    "#     ret, buf[fc] = cap.read()\n",
    "#     fc += 1\n",
    "\n",
    "# # cap.release()\n",
    "\n",
    "# # cv2.namedWindow('frame 10')\n",
    "# # cv2.imshow('frame 10', buf[9])\n"
   ]
  },
  {
   "cell_type": "code",
   "execution_count": 226,
   "metadata": {},
   "outputs": [],
   "source": [
    "# cap.read()"
   ]
  },
  {
   "cell_type": "code",
   "execution_count": 227,
   "metadata": {},
   "outputs": [],
   "source": [
    "# # open the .txt file which have names of test videos\n",
    "# test_list_dir = \"../input/ucf101/UCF101TrainTestSplits-RecognitionTask/ucfTrainTestlist/testlist01.txt\"\n",
    "# # test_list_dir = \"../data/ucfTrainTestlist/testlist01.txt\"\n",
    "# f = open(test_list_dir, \"r\")\n",
    "# temp = f.read()\n",
    "# videos = temp.split('\\n')\n",
    "\n",
    "# # creating a dataframe having video names\n",
    "# test = pd.DataFrame()\n",
    "# test['video_name'] = videos\n",
    "# test = test[:-1]\n",
    "# test.head()"
   ]
  },
  {
   "cell_type": "code",
   "execution_count": 228,
   "metadata": {},
   "outputs": [],
   "source": [
    "# # creating tags for training videos\n",
    "# train_video_tag = []\n",
    "# for i in range(train.shape[0]):\n",
    "#     train_video_tag.append(train['video_name'][i].split('/')[0])\n",
    "\n",
    "# train['tag'] = train_video_tag\n",
    "\n",
    "# # creating tags for test videos\n",
    "# test_video_tag = []\n",
    "# for i in range(test.shape[0]):\n",
    "#     test_video_tag.append(test['video_name'][i].split('/')[0])\n",
    "\n",
    "# test['tag'] = test_video_tag\n",
    "\n",
    "# # print(test['tag'])"
   ]
  },
  {
   "cell_type": "code",
   "execution_count": 229,
   "metadata": {},
   "outputs": [],
   "source": [
    "# #from ipymol.compat import Image\n",
    "\n",
    "# from PIL import Image"
   ]
  },
  {
   "cell_type": "code",
   "execution_count": 230,
   "metadata": {},
   "outputs": [],
   "source": [
    "# import matplotlib.pyplot as plt\n",
    "# # storing the frames from training videos\n",
    "# # for i in tqdm(range(train.shape[0])):\n",
    "# for i in tqdm(range(1)):\n",
    "#     count = 0\n",
    "#     videoFile = train['video_name'][i]\n",
    "#     video_root = '../input/ucf101/UCF101/UCF-101/'\n",
    "# #     video_root = \"../data/UCF-101/\"\n",
    "#     video_tag = train_video_tag[i]\n",
    "#     video_path = video_root + video_tag + \"/\"+ videoFile.split(' ')[0].split('/')[1]\n",
    "# #    eg path ../input/ucf101/UCF101/UCF-101/ApplyEyeMakeup/v_ApplyEyeMakeup_g08_c01.avi\n",
    "# #     print(video_path)\n",
    "#     cap = cv2.VideoCapture(video_path)   # capturing the video from the given path\n",
    "#     frameRate = cap.get(5) #frame rate\n",
    "#     x=1\n",
    "#     while(cap.isOpened()):\n",
    "#         frameId = cap.get(1) #current frame number\n",
    "#         ret, frame = cap.read()\n",
    "#         if not ret:\n",
    "#             break\n",
    "#         plt.imshow(frame)\n",
    "#         plt.show()\n",
    "#         filename = \"ucf-frames/train_1/image.jpg\"\n",
    "#         cv2.imwrite(filename, frame)\n",
    "# #         if (frameId % math.floor(frameRate) == 0):\n",
    "# #             # storing the frames in a new folder named train_1\n",
    "# # #             filename = \"train_1/\" + videoFile.split('/')[1].split(' ')[0] +\"_frame%d.jpg\" % count\n",
    "# # #             count+=1\n",
    "\n",
    "# #             print(filename)\n",
    "# #             cv2.imwrite(filename, frame)\n",
    "#     cap.release()"
   ]
  },
  {
   "cell_type": "code",
   "execution_count": 231,
   "metadata": {},
   "outputs": [],
   "source": [
    "# # getting the names of all the images\n",
    "# images = glob(\"train_1/*.jpg\")\n",
    "# train_image = []\n",
    "# train_class = []\n",
    "# for i in tqdm(range(len(images))):\n",
    "#     # creating the image name\n",
    "#     train_image.append(images[i].split('/')[1])\n",
    "#     # creating the class of image\n",
    "#     train_class.append(images[i].split('/')[1].split('_')[1])\n",
    "\n",
    "# # storing the images and their class in a dataframe\n",
    "# train_data = pd.DataFrame()\n",
    "# train_data['image'] = train_image\n",
    "# train_data['class'] = train_class\n",
    "\n",
    "# # converting the dataframe into csv file \n",
    "# train_data.to_csv('UCF/train_new.csv',header=True, index=False)"
   ]
  },
  {
   "cell_type": "markdown",
   "metadata": {},
   "source": [
    "Training"
   ]
  },
  {
   "cell_type": "code",
   "execution_count": 232,
   "metadata": {},
   "outputs": [],
   "source": [
    "# import keras\n",
    "# from keras.models import Sequential\n",
    "# from keras.applications.vgg16 import VGG16\n",
    "# from keras.layers import Dense, InputLayer, Dropout, Flatten\n",
    "# from keras.layers import Conv2D, MaxPooling2D, GlobalMaxPooling2D\n",
    "# from keras.preprocessing import image\n",
    "# import numpy as np\n",
    "# import pandas as pd\n",
    "# import matplotlib.pyplot as plt\n",
    "# from tqdm import tqdm\n",
    "# from sklearn.model_selection import train_test_split"
   ]
  },
  {
   "cell_type": "code",
   "execution_count": 233,
   "metadata": {},
   "outputs": [],
   "source": [
    "# train = pd.read_csv('UCF/train_new.csv')\n",
    "# train.head()"
   ]
  },
  {
   "cell_type": "code",
   "execution_count": 234,
   "metadata": {},
   "outputs": [],
   "source": [
    "# # creating an empty list\n",
    "# train_image = []\n",
    "\n",
    "# # for loop to read and store frames\n",
    "# for i in tqdm(range(train.shape[0])):\n",
    "#     # loading the image and keeping the target size as (224,224,3)\n",
    "#     img = image.load_img('train_1/'+train['image'][i], target_size=(224,224,3))\n",
    "#     # converting it to array\n",
    "#     img = image.img_to_array(img)\n",
    "#     # normalizing the pixel value\n",
    "#     img = img/255\n",
    "#     # appending the image to the train_image list\n",
    "#     train_image.append(img)\n",
    "\n",
    "# # converting the list to numpy array\n",
    "# X = np.array(train_image)\n",
    "\n",
    "# # shape of the array\n",
    "# X.shape"
   ]
  },
  {
   "cell_type": "code",
   "execution_count": 235,
   "metadata": {},
   "outputs": [],
   "source": [
    "# # separating the target\n",
    "# y = train['class']\n",
    "\n",
    "# # creating the training and validation set\n",
    "# X_train, X_test, y_train, y_test = train_test_split(X, y, random_state=42, test_size=0.2, stratify = y)"
   ]
  }
 ],
 "metadata": {
  "kernelspec": {
   "display_name": "Python 3",
   "language": "python",
   "name": "python3"
  },
  "language_info": {
   "codemirror_mode": {
    "name": "ipython",
    "version": 3
   },
   "file_extension": ".py",
   "mimetype": "text/x-python",
   "name": "python",
   "nbconvert_exporter": "python",
   "pygments_lexer": "ipython3",
   "version": "3.8.8"
  }
 },
 "nbformat": 4,
 "nbformat_minor": 4
}