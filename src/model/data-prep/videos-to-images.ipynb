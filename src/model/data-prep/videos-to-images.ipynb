{
 "cells": [
  {
   "cell_type": "markdown",
   "source": [
    "Convert videos to images, so we can actually work with them"
   ],
   "metadata": {
    "collapsed": false
   }
  },
  {
   "cell_type": "code",
   "execution_count": null,
   "metadata": {
    "collapsed": true
   },
   "outputs": [],
   "source": [
    "# https://medium.com/howtoai/video-classification-with-cnn-rnn-and-pytorch-abe2f9ee031\n",
    "# https://github.com/PacktPublishing/PyTorch-Computer-Vision-Cookbook/blob/master/Chapter10/myutils.py\n",
    "\n",
    "def get_frames(filename, n_frames=1):\n",
    "    print(filename)\n",
    "    frames = []\n",
    "    v_cap = cv2.VideoCapture(filename)\n",
    "    v_len = int(v_cap.get(cv2.CAP_PROP_FRAME_COUNT))\n",
    "    frame_list = np.linspace(0, v_len - 1, n_frames + 1, dtype=np.int16)\n",
    "\n",
    "    for fn in range(v_len):\n",
    "        success, frame = v_cap.read()\n",
    "        if success is False:\n",
    "            continue\n",
    "        if fn in frame_list:\n",
    "            frame = cv2.cvtColor(frame, cv2.COLOR_BGR2RGB)\n",
    "            frames.append(frame)\n",
    "    v_cap.release()\n",
    "    return frames, v_len\n",
    "\n",
    "\n",
    "def store_frames(frames, path2store):\n",
    "    for ii, frame in enumerate(frames):\n",
    "        plt.imshow(frame)\n",
    "        frame = cv2.cvtColor(frame, cv2.COLOR_RGB2BGR)\n",
    "        # if not os.path.exists(path2store):\n",
    "        #     os.makedirs(path2store)\n",
    "        print(path2store)\n",
    "        path2img = (path2store + \"-frame-\" + str(ii) + \".jpg\").replace(\"\\\\\", \"/\")\n",
    "        # path2img = os.path.join(path2store, \"-frame-\" + str(ii) + \".jpg\").replace(\"\\\\\", \"/\")\n",
    "        print(path2img)\n",
    "        cv2.imwrite(path2img, frame)\n",
    "\n",
    "\n",
    "temp_video_path = \"D:/_PROJECTS/epilepsy-extension/src/data/seizure_data/video/train/0-green-blue-9.avi\"\n",
    "temp_image_path = \"D:/_PROJECTS/epilepsy-extension/src/data/seizure_data/image/train/0-green-blue-9\"\n",
    "temp_frames, temp_frame_len = get_frames(temp_video_path, 5)\n",
    "store_frames(temp_frames, temp_image_path)"
   ]
  },
  {
   "cell_type": "code",
   "execution_count": null,
   "outputs": [],
   "source": [
    "def extract_images_from_directory(video_directory, image_directory, f_num):\n",
    "    _, _, filenames = next(walk(video_directory))\n",
    "    for file in filenames:\n",
    "        full_path = os.path.join(video_directory, file).replace(\"\\\\\", \"/\")\n",
    "        frames, len = get_frames(full_path, f_num)\n",
    "        #cut out the file extension\n",
    "        filename = file.split(\".\")[0]\n",
    "        image_path = os.path.join(image_directory, filename).replace(\"\\\\\", \"/\")\n",
    "        store_frames(frames, image_path)\n",
    "\n",
    "\n",
    "video_train_root = \"D:/_PROJECTS/epilepsy-extension/src/data/seizure_data/video/train/\"\n",
    "video_valid_root = \"D:/_PROJECTS/epilepsy-extension/src/data/seizure_data/video/valid/\"\n",
    "image_train_root = \"D:/_PROJECTS/epilepsy-extension/src/data/seizure_data/image/train/\"\n",
    "image_valid_root = \"D:/_PROJECTS/epilepsy-extension/src/data/seizure_data/image/valid/\"\n",
    "image_root = \"D:/_PROJECTS/epilepsy-extension/src/data/seizure_data/image\"\n",
    "\n",
    "frames_per_video = 5\n",
    "\n",
    "# extract_images_from_directory(video_train_root, image_train_root, frames_per_video)\n",
    "# extract_images_from_directory(video_valid_root, image_valid_root, frames_per_video)\n",
    "\n",
    "# for file in valid_filenames:\n",
    "#     full_path = os.path.join(video_valid_root, file).replace(\"\\\\\", \"/\")\n",
    "#     frames, len = get_frames(full_path, frames_per_video)\n",
    "#     #cut out the file extension\n",
    "#     filename = file.split(\".\")[0]\n",
    "#     image_path = os.path.join(image_valid_root, filename).replace(\"\\\\\", \"/\")\n",
    "#     store_frames(frames, image_path)\n",
    "\n",
    "\n"
   ],
   "metadata": {
    "collapsed": false,
    "pycharm": {
     "name": "#%%\n"
    }
   }
  },
  {
   "cell_type": "code",
   "execution_count": null,
   "outputs": [],
   "source": [
    "\n",
    "\n",
    "# file_root = \"../data/seizure_data/images/train/\"\n",
    "# train_image_root = \"D:/_PROJECTS/epilepsy-extension/src/data/seizure_data/image/train/\"\n",
    "\n",
    "# store_frames(test_frames, train_image_root)\n",
    "\n",
    "# i = 0\n",
    "# for frame in test_frames :\n",
    "#     plt.imshow(frame)\n",
    "#     # file_root = \"../data/seizure_data/images/train/\"\n",
    "#     file_root = \"D:/_PROJECTS/epilepsy-extension/src/data/seizure_data/images/train/\"\n",
    "#     file_name = \"test-\" + str(i)\n",
    "#     file_extension = \".bmp\"\n",
    "#     filepath = file_root + file_name + file_extension\n",
    "#     # filepath = \"C:/Users/Alina Work/Desktop/temp.bmp\"\n",
    "#     cv2.imwrite(filepath, frame)\n",
    "#     i += i"
   ],
   "metadata": {
    "collapsed": false,
    "pycharm": {
     "name": "#%%\n"
    }
   }
  }
 ],
 "metadata": {
  "kernelspec": {
   "display_name": "Python 3",
   "language": "python",
   "name": "python3"
  },
  "language_info": {
   "codemirror_mode": {
    "name": "ipython",
    "version": 2
   },
   "file_extension": ".py",
   "mimetype": "text/x-python",
   "name": "python",
   "nbconvert_exporter": "python",
   "pygments_lexer": "ipython2",
   "version": "2.7.6"
  },
  "pycharm": {
   "stem_cell": {
    "cell_type": "raw",
    "source": [
     "import cv2\n",
     "import matplotlib.pyplot as plt\n"
    ],
    "metadata": {
     "collapsed": false
    }
   }
  }
 },
 "nbformat": 4,
 "nbformat_minor": 0
}